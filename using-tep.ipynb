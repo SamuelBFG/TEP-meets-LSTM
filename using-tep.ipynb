{
  "nbformat": 4,
  "nbformat_minor": 0,
  "metadata": {
    "colab": {
      "name": "using-tep.ipynb",
      "provenance": [],
      "authorship_tag": "ABX9TyPguF2wmr+mY6xmm2bgEXoY",
      "include_colab_link": true
    },
    "kernelspec": {
      "name": "python3",
      "display_name": "Python 3"
    },
    "language_info": {
      "name": "python"
    }
  },
  "cells": [
    {
      "cell_type": "markdown",
      "metadata": {
        "id": "view-in-github",
        "colab_type": "text"
      },
      "source": [
        "<a href=\"https://colab.research.google.com/github/gmxavier/TEP-meets-LSTM/blob/master/using-tep.ipynb\" target=\"_parent\"><img src=\"https://colab.research.google.com/assets/colab-badge.svg\" alt=\"Open In Colab\"/></a>"
      ]
    },
    {
      "cell_type": "markdown",
      "source": [
        "# Using [`tep`](https://github.com/gmxavier/TEP-meets-LSTM/tree/master/tep)\n",
        "\n",
        "`tep` is a R wrapper for the TEP test problem originally written by Downs and Vogel (1990) with modifications by Russell, Chiang and Braatz (2002) and Xavier (2018).\n",
        "\n",        
        "If you are developing derived works based on `tep`, please cite the this paper [here](https://ieeexplore.ieee.org/document/8489385).\n",
        "\n",
        "`tep` is written in R and was the first open source language wrapper for the TEP test problem, followed by [`tep2py`](https://github.com/camaramm/tep2py) written in Python.\n",        
        "\n",
        "The core of both wrappers is [this](https://github.com/gmxavier/TEP-meets-LSTM/blob/master/tep/src/temain.f) modified `temain.f` file.\n",     
        "\n"
      ],
      "metadata": {
        "id": "bWxCyauzobhJ"
      }
    },
    {
      "cell_type": "markdown",
      "source": [
        "First let's get all files we will need (`temain.f`, `teprob.f` and `tep.R`)"
      ],
      "metadata": {
        "id": "X49ViUb9A9uJ"
      }
    },
    {
      "cell_type": "code",
      "source": [
        "# to get the files\n",
        "from requests import get\n",
        "repo_url = 'https://raw.githubusercontent.com/gmxavier/TEP-meets-LSTM/master/tep/'\n",
        "for file in ['temain.f', 'teprob.f', 'tep.R']:\n",
        "  url = repo_url+'src/'+file\n",
        "  if file == 'tep.R':\n",
        "    url = repo_url+'R/'+file\n",
        "  with open(file, 'w') as f: \n",
        "    f.write(get(url).text)"
      ],
      "metadata": {
        "id": "B2jPJroQBz_k"
      },
      "execution_count": 1,
      "outputs": []
    },
    {
      "cell_type": "markdown",
      "source": [
        "Since the R function `tep` is based on FORTRAN codes, the first thing is compile the source codes."
      ],
      "metadata": {
        "id": "kVkovSUoDN4c"
      }
    },
    {
      "cell_type": "code",
      "source": [
        "# to compile the temain.f\n",
        "!gfortran -fPIC -c teprob.f\n",
        "!gfortran -fPIC -shared -o temain.so temain.f teprob.o -lm -lc"
      ],
      "metadata": {
        "id": "86yEGKpaDa6l"
      },
      "execution_count": 2,
      "outputs": []
    },
    {
      "cell_type": "markdown",
      "source": [
        "As we want to show the usage of R wrapper `tep` within this Jupyter notebook, we need to load R using the package `rpy2` and the R magic"
      ],
      "metadata": {
        "id": "AZEJlXuLDv-g"
      }
    },
    {
      "cell_type": "code",
      "execution_count": 3,
      "metadata": {
        "id": "HPjQfKGs00bF",
        "colab": {
          "base_uri": "https://localhost:8080/"
        },
        "outputId": "0e5b923a-31c9-436c-87a1-ac81c644d175"
      },
      "outputs": [
        {
          "output_type": "stream",
          "name": "stdout",
          "text": [
            "Requirement already satisfied: rpy2 in /usr/local/lib/python3.7/dist-packages (3.4.5)\n",
            "Requirement already satisfied: jinja2 in /usr/local/lib/python3.7/dist-packages (from rpy2) (2.11.3)\n",
            "Requirement already satisfied: pytz in /usr/local/lib/python3.7/dist-packages (from rpy2) (2022.1)\n",
            "Requirement already satisfied: cffi>=1.10.0 in /usr/local/lib/python3.7/dist-packages (from rpy2) (1.15.0)\n",
            "Requirement already satisfied: tzlocal in /usr/local/lib/python3.7/dist-packages (from rpy2) (1.5.1)\n",
            "Requirement already satisfied: pycparser in /usr/local/lib/python3.7/dist-packages (from cffi>=1.10.0->rpy2) (2.21)\n",
            "Requirement already satisfied: MarkupSafe>=0.23 in /usr/local/lib/python3.7/dist-packages (from jinja2->rpy2) (2.0.1)\n"
          ]
        }
      ],
      "source": [
        "# to use R\n",
        "!pip install rpy2\n",
        "%load_ext rpy2.ipython"
      ]
    },
    {
      "cell_type": "markdown",
      "source": [
        "Now we load the compiled Fortran library, the R wrapper and list its functions: `tep` and `tepAttrib`."
      ],
      "metadata": {
        "id": "pGuTQhHoH-dy"
      }
    },
    {
      "cell_type": "code",
      "source": [
        "%%R\n",
        "dyn.load('temain.so')\n",
        "source('tep.R')\n",
        "ls(all.names = TRUE)"
      ],
      "metadata": {
        "colab": {
          "base_uri": "https://localhost:8080/"
        },
        "id": "tWRNhNgBQVzr",
        "outputId": "dc6098cc-2ce5-4982-c4cc-6a953d330e3b"
      },
      "execution_count": 4,
      "outputs": [
        {
          "output_type": "stream",
          "name": "stdout",
          "text": [
            "[1] \"tep\"       \"tepAttrib\"\n"
          ]
        }
      ]
    },
    {
      "cell_type": "markdown",
      "source": [
        "The `tepAttrib` function is just informative. A list of all 52 variables is given when we call it without any argument.\n",
        "\n",
        "> Note: As the agitator speed is constant, it is not listed or even available for simulation."
      ],
      "metadata": {
        "id": "XsJgbCfoJdOA"
      }
    },
    {
      "cell_type": "code",
      "source": [
        "%%R\n",
        "tepAttrib()"
      ],
      "metadata": {
        "colab": {
          "base_uri": "https://localhost:8080/"
        },
        "id": "RsCUzYciRW64",
        "outputId": "cbc5fad1-97a2-4a60-be27-0d1ebfa2fd67"
      },
      "execution_count": 5,
      "outputs": [
        {
          "output_type": "stream",
          "name": "stdout",
          "text": [
            "      variable    description                                unit    \n",
            " [1,] \"XMEAS(1)\"  \"A Feed (stream 1)\"                        \"kscmh\" \n",
            " [2,] \"XMEAS(2)\"  \"D Feed (stream 2)\"                        \"kg h-1\"\n",
            " [3,] \"XMEAS(3)\"  \"E Feed (stream 3)\"                        \"kg h-1\"\n",
            " [4,] \"XMEAS(4)\"  \"A and C Feed (stream 4)\"                  \"kscmh\" \n",
            " [5,] \"XMEAS(5)\"  \"Recycle Flow (stream 8)\"                  \"kscmh\" \n",
            " [6,] \"XMEAS(6)\"  \"Reactor Feed Rate\"                        \"kscmh\" \n",
            " [7,] \"XMEAS(7)\"  \"Reactor Pressure\"                         \"kPa\"   \n",
            " [8,] \"XMEAS(8)\"  \"Reactor Level\"                            \"%\"     \n",
            " [9,] \"XMEAS(9)\"  \"Reactor Temperature\"                      \"oC\"    \n",
            "[10,] \"XMEAS(10)\" \"Purge Rate (stream 9)\"                    \"kscmh\" \n",
            "[11,] \"XMEAS(11)\" \"Product Sep Temp\"                         \"oC\"    \n",
            "[12,] \"XMEAS(12)\" \"Product Sep Level\"                        \"%\"     \n",
            "[13,] \"XMEAS(13)\" \"Prod Sep Pressure\"                        \"kPa\"   \n",
            "[14,] \"XMEAS(14)\" \"Prod Sep Underflow (stream 10)\"           \"m3 h-1\"\n",
            "[15,] \"XMEAS(15)\" \"Stripper Level\"                           \"%\"     \n",
            "[16,] \"XMEAS(16)\" \"Stripper Pressure\"                        \"kPa\"   \n",
            "[17,] \"XMEAS(17)\" \"Stripper Underflow (stream 11)\"           \"m3 h-1\"\n",
            "[18,] \"XMEAS(18)\" \"Stripper Temperature\"                     \"oC\"    \n",
            "[19,] \"XMEAS(19)\" \"Stripper Steam Flow\"                      \"kg h-1\"\n",
            "[20,] \"XMEAS(20)\" \"Compressor Work\"                          \"kW\"    \n",
            "[21,] \"XMEAS(21)\" \"Reactor Cooling Water Outlet Temp\"        \"oC\"    \n",
            "[22,] \"XMEAS(22)\" \"Separator Cooling Water Outlet Temp\"      \"oC\"    \n",
            "[23,] \"XMEAS(23)\" \"Component A (stream 6)\"                   \"mole %\"\n",
            "[24,] \"XMEAS(24)\" \"Component B (stream 6)\"                   \"mole %\"\n",
            "[25,] \"XMEAS(25)\" \"Component C (stream 6)\"                   \"mole %\"\n",
            "[26,] \"XMEAS(26)\" \"Component D (stream 6)\"                   \"mole %\"\n",
            "[27,] \"XMEAS(27)\" \"Component E (stream 6)\"                   \"mole %\"\n",
            "[28,] \"XMEAS(28)\" \"Component F (stream 6)\"                   \"mole %\"\n",
            "[29,] \"XMEAS(29)\" \"Component A (stream 9)\"                   \"mole %\"\n",
            "[30,] \"XMEAS(30)\" \"Component B (stream 9)\"                   \"mole %\"\n",
            "[31,] \"XMEAS(31)\" \"Component C (stream 9)\"                   \"mole %\"\n",
            "[32,] \"XMEAS(32)\" \"Component D (stream 9)\"                   \"mole %\"\n",
            "[33,] \"XMEAS(33)\" \"Component E (stream 9)\"                   \"mole %\"\n",
            "[34,] \"XMEAS(34)\" \"Component F (stream 9)\"                   \"mole %\"\n",
            "[35,] \"XMEAS(35)\" \"Component G (stream 9)\"                   \"mole %\"\n",
            "[36,] \"XMEAS(36)\" \"Component H (stream 9)\"                   \"mole %\"\n",
            "[37,] \"XMEAS(37)\" \"Component D (stream 11)\"                  \"mole %\"\n",
            "[38,] \"XMEAS(38)\" \"Component E (stream 11)\"                  \"mole %\"\n",
            "[39,] \"XMEAS(39)\" \"Component F (stream 11)\"                  \"mole %\"\n",
            "[40,] \"XMEAS(40)\" \"Component G (stream 11)\"                  \"mole %\"\n",
            "[41,] \"XMEAS(41)\" \"Component H (stream 11)\"                  \"mole %\"\n",
            "[42,] \"XMV(1)\"    \"D Feed Flow (stream 2)\"                   \"%\"     \n",
            "[43,] \"XMV(2)\"    \"E Feed Flow (stream 3)\"                   \"%\"     \n",
            "[44,] \"XMV(3)\"    \"A Feed Flow (stream 1)\"                   \"%\"     \n",
            "[45,] \"XMV(4)\"    \"A and C Feed Flow (stream 4)\"             \"%\"     \n",
            "[46,] \"XMV(5)\"    \"Compressor Recycle Valve\"                 \"%\"     \n",
            "[47,] \"XMV(6)\"    \"Purge Valve (stream 9)\"                   \"%\"     \n",
            "[48,] \"XMV(7)\"    \"Separator Pot Liquid Flow (stream 10)\"    \"%\"     \n",
            "[49,] \"XMV(8)\"    \"Stripper Liquid Product Flow (stream 11)\" \"%\"     \n",
            "[50,] \"XMV(9)\"    \"Stripper Steam Valve\"                     \"%\"     \n",
            "[51,] \"XMV(10)\"   \"Reactor Cooling Water Flow\"               \"%\"     \n",
            "[52,] \"XMV(11)\"   \"Condenser Cooling Water Flow\"             \"%\"     \n"
          ]
        }
      ]
    },
    {
      "cell_type": "markdown",
      "source": [
        "The `tep` function is the true work horse. Its main argument is the `idata` matrix, which is a binary indicator matrix where the rows are the time steps and the columns are the faults.\n",
        "\n",
        "> Note: For example, to simulate 60 time steps (or 180 min in total, as the sampling time is 3 min) where only the fault #1 occurs, we will need a `idata` matrix with 60 rows and 20 columns. All the entries of this matrix are 0, except the ones corresponding to column #1, which are all equal to 1."
      ],
      "metadata": {
        "id": "5I0i7ErKLQJG"
      }
    },
    {
      "cell_type": "code",
      "source": [
        "%%R\n",
        "idata <- matrix(0L, nrow = 60, ncol = 20)\n",
        "idata[1:30,1] <- 1L\n",
        "xdata <- tep(idata)"
      ],
      "metadata": {
        "id": "VjnnqrGU8SSU"
      },
      "execution_count": 6,
      "outputs": []
    },
    {
      "cell_type": "markdown",
      "source": [
        "And finally we can plot, for example, the process history of the stripper temperature (`XMEAS(18)`)."
      ],
      "metadata": {
        "id": "Raj-wqT_QlC6"
      }
    },
    {
      "cell_type": "code",
      "source": [
        "%%R\n",
        "library(ggplot2)\n",
        "ii <- 18L\n",
        "desc <- tepAttrib(i=ii)\n",
        "ggplot() +\n",
        "    geom_point(data=as.data.frame(xdata), aes(x=1:nrow(xdata), y=xdata[,ii])) + \n",
        "    ggtitle('Process history') + \n",
        "    xlab('Time step') + ylab(paste(desc[[2]],'/',desc[[3]]))"
      ],
      "metadata": {
        "id": "LsUJTOfLSXVN",
        "outputId": "c953d5d3-1c0d-4a6c-b680-23a333cdf4bc",
        "colab": {
          "base_uri": "https://localhost:8080/",
          "height": 497
        }
      },
      "execution_count": 7,
      "outputs": [
        {
          "output_type": "display_data",
          "data": {
            "image/png": "[encoded data removed]"
          },
          "metadata": {}
        }
      ]
    }
  ]
}
